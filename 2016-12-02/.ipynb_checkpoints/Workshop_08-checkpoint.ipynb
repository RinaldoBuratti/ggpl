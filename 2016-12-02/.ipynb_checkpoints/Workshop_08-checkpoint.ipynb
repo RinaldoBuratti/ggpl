{
 "cells": [
  {
   "cell_type": "markdown",
   "metadata": {},
   "source": [
    "# WORKSHOP_07"
   ]
  },
  {
   "cell_type": "markdown",
   "metadata": {},
   "source": [
    "Tho plan drawing for the model is in the image below"
   ]
  },
  {
   "cell_type": "markdown",
   "metadata": {},
   "source": [
    "<img src='files/plan_drawing.jpg'>"
   ]
  },
  {
   "cell_type": "markdown",
   "metadata": {},
   "source": [
    "1. Using Inkscape produce the .svg files of:\n",
    "    - internal walls\n",
    "    - windows\n",
    "    - doors\n",
    "    - floor\n",
    "2. using svg2lines transform the .svg files in .lines files\n",
    "3. using data from .lines files build the house"
   ]
  },
  {
   "cell_type": "code",
   "execution_count": 1,
   "metadata": {
    "collapsed": false
   },
   "outputs": [
    {
     "name": "stdout",
     "output_type": "stream",
     "text": [
      "Evaluating fenvs.py..\n",
      "...fenvs.py imported in 0.00657 seconds\n"
     ]
    }
   ],
   "source": [
    "from pyplasm import *\n",
    "import csv\n",
    "\n",
    "def ggpl_house():\n",
    "\t\"\"\"\n",
    "\tReturns:\n",
    "\tan HPC object that represents an house\n",
    "\t\"\"\"\n",
    "\n",
    "\twith open(\"internalWalls.lines\", \"rb\") as file:\n",
    "\t\treader = csv.reader(file, delimiter = \",\")\n",
    "\t\tinternalWalls = []\n",
    "\t\tfor row in reader :\n",
    "\t\t\tinternalWalls.append(POLYLINE([[float(row[0]), float(row[1])],[float(row[2]), float(row[3])]]))\n",
    "\t\tinternalWalls = STRUCT(internalWalls)\n",
    "\t\tinternalWalls = OFFSET([0, 0, 100])(internalWalls)\n",
    "\t\tinternalWalls = OFFSET([0, 10, 0])(internalWalls)\n",
    "\t\tinternalWalls = OFFSET([10, 0, 0])(internalWalls)\n",
    "\t\t\n",
    "\n",
    "\twith open(\"windows.lines\", \"rb\") as file:\n",
    "\t\treader = csv.reader(file, delimiter = \",\")\n",
    "\t\twindows = []\n",
    "\t\tupperWall = []\n",
    "\t\tlowerWall = []\n",
    "\t\tfor row in reader :\n",
    "\t\t\twindows.append(POLYLINE([[float(row[0]), float(row[1])],[float(row[2]), float(row[3])]]))\n",
    "\t\t\tupperWall.append(POLYLINE([[float(row[0]), float(row[1])],[float(row[2]), float(row[3])]]))\n",
    "\t\t\tlowerWall.append(POLYLINE([[float(row[0]), float(row[1])],[float(row[2]), float(row[3])]]))\n",
    "\t\t\n",
    "\t\twindows = STRUCT(windows)\n",
    "\t\twindows = OFFSET([0, 0, 50])(windows)\n",
    "\t\twindows = OFFSET([0, 10, 0])(windows)\n",
    "\t\twindows = OFFSET([10, 0, 0])(windows)\n",
    "\t\twindows = T(3)(25)(windows)\n",
    "\t\twindows = COLOR(BLUE)(windows)\n",
    "\t\tupperWall = STRUCT(upperWall)\n",
    "\t\tupperWall = OFFSET([0, 0, 25])(upperWall)\n",
    "\t\tupperWall = OFFSET([0, 10, 0])(upperWall)\n",
    "\t\tupperWall = OFFSET([10, 0, 0])(upperWall)\n",
    "\t\tupperWall = T(3)(75)(upperWall)\n",
    "\t\tlowerWall = STRUCT(lowerWall)\n",
    "\t\tlowerWall = OFFSET([0, 0, 25])(lowerWall)\n",
    "\t\tlowerWall = OFFSET([0, 10, 0])(lowerWall)\n",
    "\t\tlowerWall = OFFSET([9, 0, 0])(lowerWall)\n",
    "\t\twindows = STRUCT([windows, lowerWall, upperWall])\n",
    "\n",
    "\n",
    "\twith open(\"doors.lines\", \"rb\") as file:\n",
    "\t\treader = csv.reader(file, delimiter = \",\")\n",
    "\t\tdoors = []\n",
    "\t\tupperWall = []\n",
    "\t\tfor row in reader :\n",
    "\t\t\tdoors.append(POLYLINE([[float(row[0]), float(row[1])],[float(row[2]), float(row[3])]]))\n",
    "\t\t\tupperWall.append(POLYLINE([[float(row[0]), float(row[1])],[float(row[2]), float(row[3])]]))\n",
    "\t\t\n",
    "\t\tdoors = STRUCT(doors)\n",
    "\t\tdoors = OFFSET([0, 0, 80])(doors)\n",
    "\t\tdoors = OFFSET([0, 10, 0])(doors)\n",
    "\t\tdoors = OFFSET([10, 0, 0])(doors)\n",
    "\t\tdoors = COLOR([0.588, 0.29, 0])(doors)\n",
    "\t\tupperWall = STRUCT(upperWall)\n",
    "\t\tupperWall = OFFSET([0, 0, 20])(upperWall)\n",
    "\t\tupperWall = OFFSET([0, 10, 0])(upperWall)\n",
    "\t\tupperWall = OFFSET([10, 0, 0])(upperWall)\n",
    "\t\tupperWall = T(3)(80)(upperWall)\n",
    "\t\n",
    "\t\tdoors = STRUCT([doors, upperWall])\n",
    "\n",
    "\twith open(\"floor.lines\", \"rb\") as file:\n",
    "\t\treader = csv.reader(file, delimiter = \",\")\n",
    "\t\tfloor = []\n",
    "\t\tverts = []\n",
    "\t\tcells = [[1, 2, 3, 4]]\n",
    "\t\ti = 0\n",
    "\t\tfor row in reader :\n",
    "\t\t\tif(i == 0):\n",
    "\t\t\t\tx = float(row[0])\n",
    "\t\t\t\ty = float(row[1])\n",
    "\t\t\t\telem = [x, y]\n",
    "\t\t\t\tverts.append(elem)\n",
    "\t\t\tif(i == 1):\n",
    "\t\t\t\tx = float(row[0])\n",
    "\t\t\t\ty = float(row[1])\n",
    "\t\t\t\telem = [x, y]\n",
    "\t\t\t\tverts.append(elem)\n",
    "\t\t\tif(i == 2):\n",
    "\t\t\t\tx = float(row[0])\n",
    "\t\t\t\ty = float(row[1])\n",
    "\t\t\t\telem = [x, y]\n",
    "\t\t\t\tverts.append(elem)\n",
    "\t\t\tif(i == 3):\n",
    "\t\t\t\tx = float(row[2])\n",
    "\t\t\t\ty = float(row[3])\n",
    "\t\t\t\telem = [x, y]\n",
    "\t\t\t\tverts.append(elem)\n",
    "\t\t\ti = i + 1\n",
    "\t\t\n",
    "\t\tfloor = TEXTURE(\"floor_texture.JPG\") (MKPOL([verts, cells, None]))\n",
    "\n",
    "\thouse = STRUCT([internalWalls, windows, doors, floor])\n",
    "\treturn house\n",
    "\n",
    "if __name__ == '__main__':\n",
    "\thouse = ggpl_house()\n",
    "\tVIEW(house)"
   ]
  },
  {
   "cell_type": "markdown",
   "metadata": {},
   "source": [
    "Output:"
   ]
  },
  {
   "cell_type": "markdown",
   "metadata": {},
   "source": [
    "internalWalls"
   ]
  },
  {
   "cell_type": "markdown",
   "metadata": {},
   "source": [
    "<img src='files/internalWalls.png'>"
   ]
  },
  {
   "cell_type": "markdown",
   "metadata": {},
   "source": [
    "windows"
   ]
  },
  {
   "cell_type": "markdown",
   "metadata": {},
   "source": [
    "<img src='files/windows.png'>"
   ]
  },
  {
   "cell_type": "markdown",
   "metadata": {},
   "source": [
    "doors"
   ]
  },
  {
   "cell_type": "markdown",
   "metadata": {},
   "source": [
    "<img src='files/doors.png'>"
   ]
  },
  {
   "cell_type": "markdown",
   "metadata": {},
   "source": [
    "house:"
   ]
  },
  {
   "cell_type": "markdown",
   "metadata": {},
   "source": [
    "<img src='files/house1.png'>"
   ]
  },
  {
   "cell_type": "markdown",
   "metadata": {},
   "source": [
    "<img src='files/house2.png'>"
   ]
  },
  {
   "cell_type": "markdown",
   "metadata": {},
   "source": [
    "<img src='files/house3.png'>"
   ]
  },
  {
   "cell_type": "code",
   "execution_count": null,
   "metadata": {
    "collapsed": true
   },
   "outputs": [],
   "source": []
  }
 ],
 "metadata": {
  "anaconda-cloud": {},
  "kernelspec": {
   "display_name": "Python [default]",
   "language": "python",
   "name": "python2"
  },
  "language_info": {
   "codemirror_mode": {
    "name": "ipython",
    "version": 2
   },
   "file_extension": ".py",
   "mimetype": "text/x-python",
   "name": "python",
   "nbconvert_exporter": "python",
   "pygments_lexer": "ipython2",
   "version": "2.7.12"
  }
 },
 "nbformat": 4,
 "nbformat_minor": 1
}
