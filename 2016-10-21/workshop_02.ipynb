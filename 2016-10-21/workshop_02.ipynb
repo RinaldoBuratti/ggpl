{
 "cells": [
  {
   "cell_type": "markdown",
   "metadata": {
    "collapsed": true
   },
   "source": [
    "# WORKSHOP_02"
   ]
  },
  {
   "cell_type": "markdown",
   "metadata": {},
   "source": [
    "for the creation of the model it has been used the following image"
   ]
  },
  {
   "cell_type": "markdown",
   "metadata": {},
   "source": [
    "<img src=\"files/model.JPG\">"
   ]
  },
  {
   "cell_type": "markdown",
   "metadata": {
    "collapsed": true
   },
   "source": [
    "imported libraries"
   ]
  },
  {
   "cell_type": "code",
   "execution_count": 4,
   "metadata": {
    "collapsed": false
   },
   "outputs": [
    {
     "name": "stdout",
     "output_type": "stream",
     "text": [
      "Evaluating fenvs.py..\n",
      "...fenvs.py imported in 0.004807 seconds\n"
     ]
    },
    {
     "name": "stderr",
     "output_type": "stream",
     "text": [
      "/Users/rinaldoburatti/anaconda/lib/python2.7/site-packages/larlib/larstruct.py:233: FutureWarning: comparison to `None` will result in an elementwise object comparison in the future.\n",
      "  self.body = [item for item in data if item != None]\n"
     ]
    }
   ],
   "source": [
    "from pyplasm import *\n",
    "from larlib import *\n",
    "import csv"
   ]
  },
  {
   "cell_type": "markdown",
   "metadata": {},
   "source": [
    "functions to read from a csv file"
   ]
  },
  {
   "cell_type": "code",
   "execution_count": 5,
   "metadata": {
    "collapsed": true
   },
   "outputs": [],
   "source": [
    "def search(string, char): \n",
    "    \"\"\"\n",
    "    Function to search a character in a string \n",
    "\n",
    "    Args:\n",
    "    string: a string in which we have to find the character char\n",
    "    char: a character\n",
    "\n",
    "    Returns:\n",
    "    An index corresponding to the position of the character within the string\n",
    "\n",
    "    \"\"\"   \n",
    "    \n",
    "    index = 0 \n",
    "    while index < len(string): \n",
    "        if string[index] == char: \n",
    "            return index\n",
    "        index = index + 1 \n",
    "    return -1 \n",
    "\n",
    "\n",
    "def loadDataFromCsv(string):\n",
    "    \"\"\"\n",
    "    Function to load the contenct of a csv file\n",
    "\n",
    "    Returns:\n",
    "    A set of element's list\n",
    "\n",
    "    \"\"\"   \n",
    "    with open(string,'r') as f:\n",
    "        dati=csv.reader(f, delimiter=':', quotechar=' ')\n",
    "        #my_list = map(tuple, dati)\n",
    "        frameDistances = []\t\t\t\t#per la traslazione sull'asse x\n",
    "        yDistances = []\t\t\t\t#per la traslazione sull'asse y\n",
    "        zDistances = []\t\t\t\t#per la traslazione sull'asse z\n",
    "        beamsSections = []\n",
    "        beamsDistances = []\n",
    "        pillarsSections = []\n",
    "        pillarsDistances = []\n",
    "\n",
    "        for line in dati:\n",
    "            if(len(line) == 1):\n",
    "                s = line[0]\n",
    "                frameDistances.extend([float(s[0:search(s,\",\")])])\n",
    "                s = s[search(s,\",\")+1:len(s)]\n",
    "                yDistances.extend([float(s[0:search(s,\",\")])])\n",
    "                zDistances.extend([float(s[search(s,\",\")+1:len(s)])])\n",
    "            else:\n",
    "                pillarsDistances.append(line[0])\n",
    "                beamsDistances.append(line[1])\n",
    "                pillarsSections.append(line[2])\n",
    "                beamsSections.append(line[3])\n",
    "\n",
    "\n",
    "        tmp = []\n",
    "        for i in range (0, len(pillarsDistances)):\n",
    "            el2 = []\n",
    "            for j in range (0, len(pillarsDistances[i])):\n",
    "                if(j%2 == 0):\n",
    "                    el2.extend([float(pillarsDistances[i][j])])\n",
    "            tmp.append(el2)\n",
    "        pillarsDistances = tmp\n",
    "\n",
    "        tmp = []\n",
    "        for i in range (0, len(beamsDistances)):\n",
    "            el2 = []\n",
    "            for j in range (0, len(beamsDistances[i])):\n",
    "                if(j%2 == 0):\n",
    "                    el2.extend([float(beamsDistances[i][j])])\n",
    "            tmp.append(el2)\n",
    "        beamsDistances = tmp\n",
    "\n",
    "        ps= []\n",
    "        val = search(pillarsSections[0], \",\")\n",
    "        for i in range(0,len(pillarsSections)):\n",
    "            tmp = pillarsSections[i]\n",
    "            px = float(tmp[0:val])\n",
    "            py = float(tmp[val+1:len(tmp)])\n",
    "            p = (px,py)\n",
    "            ps.append(p)\n",
    "        pillarsSections = ps\n",
    "\n",
    "        bs= []\n",
    "        val = search(beamsSections[0], \",\")\n",
    "        for i in range(0,len(beamsSections)):\n",
    "            tmp = beamsSections[i]\n",
    "            bx = float(tmp[0:val])\n",
    "            by = float(tmp[val+1:len(tmp)])\n",
    "            b = (bx,by)\n",
    "            bs.append(b)\n",
    "        beamsSections = bs\n",
    "\n",
    "    return (pillarsDistances, beamsDistances, pillarsSections, beamsSections, frameDistances)"
   ]
  },
  {
   "cell_type": "markdown",
   "metadata": {},
   "source": [
    "function that creates a parametric frame in reinforced concrete"
   ]
  },
  {
   "cell_type": "code",
   "execution_count": 6,
   "metadata": {
    "collapsed": true
   },
   "outputs": [],
   "source": [
    "def buildFrame(beamSection, pillarSection, pillarDistances, beamDistances) :\n",
    "\t\"\"\"\n",
    "\n",
    "\tCreates a parametric frame in reinforced concrete\n",
    "\n",
    "\tArgs:\n",
    "    :param beamSize: given dimensions of beam section\n",
    "    :param pillarSize: given dimensions of pillar section\n",
    "    :param beamDistances: distances between axes of the pillars\n",
    "    :param pillarDistances: interstory heights\n",
    "    \n",
    "    Returns: \n",
    "    3D value of type HPC representing a single frame of the building\n",
    "    \n",
    "    \"\"\"\n",
    "\n",
    "\t(bx, bz) = beamSection\n",
    "\t(px, py) = pillarSection\n",
    "\n",
    "\t#pillar creation\n",
    "\n",
    "\tpillarX = []\n",
    "\tfor i in range(0, len(pillarDistances)):\n",
    "\t\tpillarX.extend([py, -pillarDistances[i]])\n",
    "\tpillarX.extend([py])\n",
    "\n",
    "\tpillarY = []\n",
    "\tfor i in range(0, len(beamDistances)):\n",
    "\t\tpillarY.extend([beamDistances[i], -bz])\n",
    "\n",
    "\tpillarSimple = PROD([QUOTE(pillarX), QUOTE(pillarY)])\n",
    "\tpillarComplete = PROD([pillarSimple, Q(px)])\n",
    "\n",
    "\t#beam creations\n",
    "\n",
    "\tbeamX = []\n",
    "\tfor i in range(0, len(pillarDistances)):\n",
    "\t\tif i == 0 or i == len(pillarDistances) - 1 :\n",
    "\t\t\tbeamSize = pillarDistances[i] + py + py/2.0\n",
    "\t\telse:\n",
    "\t\t\tbeamSize = pillarDistances[i] + py\n",
    "\t\tbeamX.extend([beamSize])\n",
    "\n",
    "\tbeamY = []\n",
    "\tfor i in range(0, len(beamDistances)):\n",
    "\t\tbeamY.extend([-beamDistances[i], bz])\n",
    "\n",
    "\tbeamSimple = PROD([QUOTE(beamX), QUOTE(beamY)])\n",
    "\tbeamComplete = PROD([beamSimple, Q(bx)])\n",
    "\n",
    "\tstructure = STRUCT([pillarComplete, beamComplete])\n",
    "\tstructure = R([1,2])(PI/2.0)(structure)\n",
    "\treturn R([1,3])(-PI/2.0)(structure)"
   ]
  },
  {
   "cell_type": "markdown",
   "metadata": {},
   "source": [
    "Output:"
   ]
  },
  {
   "cell_type": "markdown",
   "metadata": {},
   "source": [
    "<img src=\"files/output_buildFrame.png\">"
   ]
  },
  {
   "cell_type": "markdown",
   "metadata": {},
   "source": [
    "function that build multiple frames"
   ]
  },
  {
   "cell_type": "code",
   "execution_count": 8,
   "metadata": {
    "collapsed": true
   },
   "outputs": [],
   "source": [
    "def buildAllFrames(beamSection, pillarSection, pillarDistances, beamDistances, frameDistances) :\n",
    "\t\"\"\"\n",
    "\tBuild multiple frames\n",
    "\n",
    "\tArgs:\n",
    "\t:param beamSize: given dimensions of beam section\n",
    "    :param pillarSize: given dimensions of pillar section\n",
    "    :param beamDistances: distances between axes of the pillars\n",
    "    :param pillarDistances: interstory heights\n",
    "    :param frameDistances: distances between frames\n",
    "    \n",
    "    Returns: \n",
    "    3D value of type HPC representing the frames of the building\n",
    "\n",
    "\t\"\"\"\n",
    "\tallFrames = []\n",
    "\tframesHeight = []\n",
    "\tframesWidth = []\n",
    "\tfor i in range(0, len(frameDistances)):\n",
    "\t\ttemp = 0\n",
    "\t\tcurrentPillarDistances = pillarDistances[i]\n",
    "\t\tcurrentBeamDistances = beamDistances[i]\n",
    "\t\t\n",
    "\t\tfor j in range(0, len(currentBeamDistances)):\n",
    "\t\t\ttemp = temp + currentBeamDistances[j]\n",
    "\t\tframesHeight.extend([temp])\n",
    "\n",
    "\t\ttemp = 0\n",
    "\t\tfor j in range(0, len(currentPillarDistances)):\n",
    "\t\t\ttemp = temp + currentPillarDistances[j]\n",
    "\t\tframesWidth.extend([temp])\n",
    "\n",
    "\t\tcurrentPillarSection = pillarSection[i]\n",
    "\t\tcurrentBeamSection = beamSection[i]\n",
    "\n",
    "\t\tframe = buildFrame(currentBeamSection, currentPillarSection, currentPillarDistances, currentBeamDistances)\n",
    "\t\tallFrames.extend([T(1) (frameDistances[i]), frame])\n",
    "\n",
    "\treturn (STRUCT(allFrames), framesHeight, framesWidth)"
   ]
  },
  {
   "cell_type": "markdown",
   "metadata": {},
   "source": [
    "Output:"
   ]
  },
  {
   "cell_type": "markdown",
   "metadata": {},
   "source": [
    "<img src=\"files/output_buildAllFrames.png\">"
   ]
  },
  {
   "cell_type": "markdown",
   "metadata": {},
   "source": [
    "function that build beams between frames"
   ]
  },
  {
   "cell_type": "code",
   "execution_count": 10,
   "metadata": {
    "collapsed": true
   },
   "outputs": [],
   "source": [
    "def buildBeamsBetweenFrames(beamSection, pillarSection, pillarDistances, beamDistances, frameDistances, heights, widths):\n",
    "\t\"\"\"\n",
    "\tBuild beams between frames\n",
    "\n",
    "\tArgs:\n",
    "\t:param beamSize: given dimensions of beam section\n",
    "    :param pillarSize: given dimensions of pillar section\n",
    "    :param beamDistances: distances between axes of the pillars\n",
    "    :param pillarDistances: interstory heights\n",
    "    :param frameDistances: distances between frames\n",
    "    \n",
    "    Returns: \n",
    "    3D value of type HPC representing the internal beams of the building\n",
    "\n",
    "\t\"\"\"\n",
    "\tplanes = []\n",
    "\tdist = 0\n",
    "\tfor j in range(0, len(frameDistances)-1):\n",
    "\t\tminHeight = 0\n",
    "\t\tif(heights[j] <= heights[j+1]):\n",
    "\t\t\tminHeight = j\n",
    "\t\telse:\n",
    "\t\t\tminHeight = j+1\n",
    "\n",
    "\t\tminWidth = 0\n",
    "\t\tif(widths[j] <= widths[j+1]):\n",
    "\t\t\tminWidth = j\n",
    "\t\telse:\n",
    "\t\t\tminWidth = j+1\n",
    "\n",
    "\t\t(by, bz) = beamSection[minHeight]\n",
    "\t\t(px, py) = pillarSection[minWidth]\n",
    "\t\tbx = frameDistances[j+1]\n",
    "\t\tyDistances = pillarDistances[minWidth]\n",
    "\t\tzDistances = beamDistances[minHeight]\n",
    "\n",
    "\t\tif(j == 0):\n",
    "\t\t\tdist = px\n",
    "\n",
    "\t\tel = PROD([Q(bx), Q(by)])\n",
    "\t\tel = PROD([el, Q(bz)])\n",
    "\t\tel = STRUCT([el])\n",
    "\n",
    "\t\ttmp = []\n",
    "\t\tfor i in range(0, len(yDistances)):\n",
    "\t\t\ttmp.extend([el, T(2)(yDistances[i]+py)])\n",
    "\t\ttmp.extend([el])\n",
    "\t\ttmp = STRUCT(tmp)\n",
    "\n",
    "\t\tfloors = []\n",
    "\t\tpred = 0\n",
    "\t\tfor i in range(0, len(zDistances)):\n",
    "\t\t\tfloors.extend([T(3)(zDistances[i] + pred), tmp])\n",
    "\t\t\tpred = bz\n",
    "\t\tfloors = STRUCT(floors)\n",
    "\n",
    "\t\tplanes.extend([T(1)(dist), floors])\n",
    "\t\tdist = bx\n",
    "\n",
    "\tplanes = STRUCT(planes)\n",
    "\n",
    "\treturn planes"
   ]
  },
  {
   "cell_type": "markdown",
   "metadata": {},
   "source": [
    "<img src=\"files/output_buildBeamsBetweenFrames.png\">"
   ]
  },
  {
   "cell_type": "markdown",
   "metadata": {},
   "source": [
    "Run the code:"
   ]
  },
  {
   "cell_type": "code",
   "execution_count": 12,
   "metadata": {
    "collapsed": false
   },
   "outputs": [],
   "source": [
    "def ggpl_bone_structure(filename):\n",
    "\t\"\"\"\n",
    "\tcreates a bone structure of a building\n",
    "\tArgs:\n",
    "\t:param filename: the name of a .csv file that contais input values\n",
    "\n",
    "\tReturns:\n",
    "\t3D value of type HPC representing the bone structure of a building\n",
    "\t\"\"\"\n",
    "\tvalues = loadDataFromCsv(filename)\n",
    "\tbeamSection = values[3]\n",
    "\tpillarSection = values[2]\n",
    "\tpillarDistances = values[0]\n",
    "\tbeamDistances = values[1]\n",
    "\tframeDistances = values[4]\n",
    "\n",
    "\t(allFrames, heights, widths) = buildAllFrames(beamSection, pillarSection, pillarDistances, beamDistances, frameDistances)\n",
    "\tallBeams = buildBeamsBetweenFrames(beamSection, pillarSection, pillarDistances, beamDistances, frameDistances, heights, widths)\n",
    "\t\n",
    "\n",
    "\tstructure = buildStructure(allFrames, allBeams)\n",
    "\n",
    "\treturn structure\n",
    "\n",
    "def buildStructure(frames, floorsBeams):\n",
    "\tstructure = STRUCT([frames, floorsBeams])\n",
    "\treturn structure\n",
    "\n",
    "\n",
    "if __name__ == \"__main__\":\n",
    "\tstructure = ggpl_bone_structure('frame_data_438537.csv')\n",
    "\tVIEW(structure)"
   ]
  },
  {
   "cell_type": "markdown",
   "metadata": {},
   "source": [
    "Output:"
   ]
  },
  {
   "cell_type": "markdown",
   "metadata": {},
   "source": [
    "<img src=\"files/output_building.png\">"
   ]
  },
  {
   "cell_type": "code",
   "execution_count": null,
   "metadata": {
    "collapsed": true
   },
   "outputs": [],
   "source": []
  }
 ],
 "metadata": {
  "anaconda-cloud": {},
  "kernelspec": {
   "display_name": "Python [default]",
   "language": "python",
   "name": "python2"
  },
  "language_info": {
   "codemirror_mode": {
    "name": "ipython",
    "version": 2
   },
   "file_extension": ".py",
   "mimetype": "text/x-python",
   "name": "python",
   "nbconvert_exporter": "python",
   "pygments_lexer": "ipython2",
   "version": "2.7.12"
  }
 },
 "nbformat": 4,
 "nbformat_minor": 1
}
