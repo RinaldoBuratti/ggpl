{
 "cells": [
  {
   "cell_type": "markdown",
   "metadata": {},
   "source": [
    "# WORKSHOP_05"
   ]
  },
  {
   "cell_type": "markdown",
   "metadata": {},
   "source": [
    "the model used is in the image below (with some changes)"
   ]
  },
  {
   "cell_type": "markdown",
   "metadata": {},
   "source": [
    "<img src='files/model.jpg'>"
   ]
  },
  {
   "cell_type": "markdown",
   "metadata": {},
   "source": [
    "imported libraries"
   ]
  },
  {
   "cell_type": "code",
   "execution_count": 1,
   "metadata": {
    "collapsed": false
   },
   "outputs": [
    {
     "name": "stdout",
     "output_type": "stream",
     "text": [
      "Evaluating fenvs.py..\n",
      "...fenvs.py imported in 0.004769 seconds\n"
     ]
    },
    {
     "name": "stderr",
     "output_type": "stream",
     "text": [
      "/Users/rinaldoburatti/anaconda/lib/python2.7/site-packages/larlib/larstruct.py:233: FutureWarning: comparison to `None` will result in an elementwise object comparison in the future.\n",
      "  self.body = [item for item in data if item != None]\n"
     ]
    }
   ],
   "source": [
    "from pyplasm import *\n",
    "from larlib import *"
   ]
  },
  {
   "cell_type": "markdown",
   "metadata": {},
   "source": [
    "function that creates the legs of the desk"
   ]
  },
  {
   "cell_type": "code",
   "execution_count": 2,
   "metadata": {
    "collapsed": true
   },
   "outputs": [],
   "source": [
    "def createLegs(dimension):\n",
    "\t'''\n",
    "\tcreates legs of the desk\n",
    "\n",
    "\tArgs:\n",
    "\t:param dimension: dimension of the cube that contains the desk\n",
    "\n",
    "\tReturns:\n",
    "\t3D value of type HPC representing the legs of a desk\n",
    "\t'''\n",
    "\t(dx, dy, dz) = dimension\n",
    "\tlegs = []\n",
    "\tleg = CYLINDER([0.04, dz])(1000)\n",
    "\tleg = COLOR(GRAY)(leg)\n",
    "\tleg = T(1)(0.06)(leg)\n",
    "\tleg = T(2)(0.06)(leg)\n",
    "\tlegs.extend([leg])\n",
    "\tleg2 = T(1)(dx-0.1)(leg)\n",
    "\tlegs.extend([leg2])\n",
    "\tleg3 = T(2)(dy-0.13)(leg)\n",
    "\tlegs.extend([leg3])\n",
    "\tleg4 = T(1)(dx-0.1)(leg)\n",
    "\tleg4 = T(2)(dy-0.13)(leg4)\n",
    "\tlegs.extend([leg4])\n",
    "\n",
    "\tlegs = STRUCT(legs)\n",
    "\treturn legs"
   ]
  },
  {
   "cell_type": "markdown",
   "metadata": {},
   "source": [
    "Output:"
   ]
  },
  {
   "cell_type": "markdown",
   "metadata": {},
   "source": [
    "<img src='files/legs.png'>"
   ]
  },
  {
   "cell_type": "markdown",
   "metadata": {},
   "source": [
    "function taht creates the structure under the table of the desk"
   ]
  },
  {
   "cell_type": "code",
   "execution_count": 3,
   "metadata": {
    "collapsed": true
   },
   "outputs": [],
   "source": [
    "def createBaseStructure(dimension):\n",
    "\t'''\n",
    "\tcreates the structure under the table of the desk\n",
    "\n",
    "\tArgs:\n",
    "\t:param dimension: dimension of the cube that contains the desk\n",
    "\n",
    "\tReturns:\n",
    "\t3D value of type HPC representing the structure under the table of a desk\n",
    "\t'''\n",
    "\t(dx, dy, dz) = dimension\n",
    "\tbaseStructure = []\n",
    "\tbaseX1 = CUBOID([dx-0.09, 0.05, 0.05])\n",
    "\tbaseX1 = COLOR(GRAY)(baseX1)\n",
    "\tbaseX2 = CUBOID([dx-0.09, 0.05, 0.05])\n",
    "\tbaseX2 = COLOR(GRAY)(baseX2)\n",
    "\tbaseY1 = CUBOID([0.05, dy-0.09, 0.05])\n",
    "\tbaseY1 = COLOR(GRAY)(baseY1)\n",
    "\tbaseY2 = CUBOID([0.05, dy-0.09, 0.05])\n",
    "\tbaseY2 = COLOR(GRAY)(baseY2)\n",
    "\n",
    "\tbaseX1 = T(1)(0.04)(baseX1)\n",
    "\tbaseX1 = T(2)(0.04)(baseX1)\n",
    "\tbaseX1 = T(3)(dz-0.05)(baseX1)\n",
    "\tbaseX2 = T(1)(0.04)(baseX2)\n",
    "\tbaseX2 = T(2)(dy-0.1)(baseX2)\n",
    "\tbaseX2 = T(3)(dz-0.05)(baseX2)\n",
    "\tbaseY1 = T(1)(0.04)(baseY1)\n",
    "\tbaseY1 = T(2)(0.04)(baseY1)\n",
    "\tbaseY1 = T(3)(dz-0.05)(baseY1)\n",
    "\tbaseY2 = T(1)(dx-0.08)(baseY2)\n",
    "\tbaseY2 = T(2)(0.04)(baseY2)\n",
    "\tbaseY2 = T(3)(dz-0.05)(baseY2)\n",
    "\n",
    "\tbaseStructure.extend([baseX1])\n",
    "\tbaseStructure.extend([baseX2])\n",
    "\tbaseStructure.extend([baseY1])\n",
    "\tbaseStructure.extend([baseY2])\n",
    "\n",
    "\tbaseStructure = STRUCT(baseStructure)\n",
    "\treturn baseStructure"
   ]
  },
  {
   "cell_type": "markdown",
   "metadata": {},
   "source": [
    "Output:"
   ]
  },
  {
   "cell_type": "markdown",
   "metadata": {},
   "source": [
    "<img src='files/baseStructure.png'>"
   ]
  },
  {
   "cell_type": "markdown",
   "metadata": {},
   "source": [
    "function that creates the table of the desk"
   ]
  },
  {
   "cell_type": "code",
   "execution_count": 5,
   "metadata": {
    "collapsed": true
   },
   "outputs": [],
   "source": [
    "def createTable(dimension):\t\n",
    "\t'''\n",
    "\tcreates the table of the desk\n",
    "\n",
    "\tArgs:\n",
    "\t:param dimension: dimension of the cube that contains the desk\n",
    "\n",
    "\tReturns:\n",
    "\t3D value of type HPC representing the table of a desk\n",
    "\t'''\n",
    "\t(dx, dy, dz) = dimension\n",
    "\ttable = CUBOID([dx, dy, 0.025])\n",
    "\ttable = COLOR(GREEN)(table)\n",
    "\ttable = T(3)(dz)(table)\n",
    "\treturn table"
   ]
  },
  {
   "cell_type": "markdown",
   "metadata": {},
   "source": [
    "Output:"
   ]
  },
  {
   "cell_type": "markdown",
   "metadata": {},
   "source": [
    "<img src='files/table.png'>"
   ]
  },
  {
   "cell_type": "markdown",
   "metadata": {},
   "source": [
    "Run the code:"
   ]
  },
  {
   "cell_type": "code",
   "execution_count": 7,
   "metadata": {
    "collapsed": true
   },
   "outputs": [],
   "source": [
    "def ggpl_desk(dimension):\n",
    "\t'''\n",
    "\tcreates a desk\n",
    "\n",
    "\tArgs:\n",
    "\t:param dimension: dimension of the cube that contains the desk\n",
    "\n",
    "\tReturns:\n",
    "\t3D value of type HPC representing a desk\n",
    "\t'''\n",
    "\t(dx, dy, dz) = dimension\n",
    "\tlegs = createLegs(dimension)\n",
    "\tbaseStructure = createBaseStructure(dimension)\n",
    "\ttable = createTable(dimension)\n",
    "\tdesk = STRUCT([legs, baseStructure, table])\n",
    "\treturn desk\n",
    "\n",
    "if __name__ == \"__main__\":\n",
    "\tdimension = (0.8, 1.25, 1.3)\n",
    "\tdesk = ggpl_desk(dimension)\n",
    "\tVIEW(desk)"
   ]
  },
  {
   "cell_type": "markdown",
   "metadata": {},
   "source": [
    "Output:"
   ]
  },
  {
   "cell_type": "markdown",
   "metadata": {},
   "source": [
    "<img src='files/desk.png'>"
   ]
  },
  {
   "cell_type": "code",
   "execution_count": null,
   "metadata": {
    "collapsed": true
   },
   "outputs": [],
   "source": []
  }
 ],
 "metadata": {
  "anaconda-cloud": {},
  "kernelspec": {
   "display_name": "Python [default]",
   "language": "python",
   "name": "python2"
  },
  "language_info": {
   "codemirror_mode": {
    "name": "ipython",
    "version": 2
   },
   "file_extension": ".py",
   "mimetype": "text/x-python",
   "name": "python",
   "nbconvert_exporter": "python",
   "pygments_lexer": "ipython2",
   "version": "2.7.12"
  }
 },
 "nbformat": 4,
 "nbformat_minor": 1
}
