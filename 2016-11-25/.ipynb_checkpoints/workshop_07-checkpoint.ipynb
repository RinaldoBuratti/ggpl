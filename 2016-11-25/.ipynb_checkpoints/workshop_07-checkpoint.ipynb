{
 "cells": [
  {
   "cell_type": "markdown",
   "metadata": {},
   "source": [
    "# WORKSHOP_07"
   ]
  },
  {
   "cell_type": "markdown",
   "metadata": {},
   "source": [
    "the model used are in the images below"
   ]
  },
  {
   "cell_type": "markdown",
   "metadata": {},
   "source": [
    "<img src='files/door_model.jpg'>"
   ]
  },
  {
   "cell_type": "markdown",
   "metadata": {},
   "source": [
    "<img src='files/window_model.jpg'>"
   ]
  },
  {
   "cell_type": "markdown",
   "metadata": {},
   "source": [
    "imported libraries"
   ]
  },
  {
   "cell_type": "code",
   "execution_count": 1,
   "metadata": {
    "collapsed": false
   },
   "outputs": [
    {
     "name": "stdout",
     "output_type": "stream",
     "text": [
      "Evaluating fenvs.py..\n",
      "...fenvs.py imported in 0.004768 seconds\n"
     ]
    },
    {
     "name": "stderr",
     "output_type": "stream",
     "text": [
      "/Users/rinaldoburatti/anaconda/lib/python2.7/site-packages/larlib/larstruct.py:233: FutureWarning: comparison to `None` will result in an elementwise object comparison in the future.\n",
      "  self.body = [item for item in data if item != None]\n"
     ]
    }
   ],
   "source": [
    "from pyplasm import *\n",
    "from larlib import *\n"
   ]
  },
  {
   "cell_type": "markdown",
   "metadata": {},
   "source": [
    "function that creates a door"
   ]
  },
  {
   "cell_type": "code",
   "execution_count": 2,
   "metadata": {
    "collapsed": true
   },
   "outputs": [],
   "source": [
    "def createDoor(Xarray, Yarray, Zarray, boolArray, Xglass, Zglass):\n",
    "\t\"\"\"\n",
    "\tArgs:\n",
    "\t:param Xarray: a list of distances on x axis\n",
    "\t:param Yarray: a list of distances on y axis\n",
    "\t:param Zarray: a list of distances on z axis\n",
    "\t:param boolArray: a three dimensional matrix of occupancy\n",
    "\t:param Xglass: x coordinate of the glass on the door\n",
    "\t:param Zglass: z coordinate of the glass on the door\n",
    "\n",
    "\tReturns:\n",
    "\ta second order function\n",
    "\t\"\"\"\n",
    "\tdef createDoor2(dimensions):\n",
    "\t\t\"\"\"\n",
    "\t\tArgs:\n",
    "\t\t:param dimensions: dimension of the cube that contais the door\n",
    "\n",
    "\t\tReturns:\n",
    "\t\tan HPC object that represts a door\n",
    "\t\t\"\"\"\n",
    "\t\t(dx, dy, dz) = dimensions\n",
    "\t\tdoor = []\n",
    "\n",
    "\t\tx = 0\n",
    "\t\tfor i in range (0, len(boolArray)) :\n",
    "\t\t\ty = 0\n",
    "\t\t\tfor j in range (0, len(boolArray[i])):\n",
    "\t\t\t\tz = 0\n",
    "\t\t\t\tfor k in range(0, len(boolArray[i][j])):\n",
    "\t\t\t\t\tif(boolArray[i][j][k]):\n",
    "\t\t\t\t\t\tcell = []\n",
    "\t\t\t\t\t\tif(Zarray[k] == Zglass and Xarray[i] == Xglass):\n",
    "\t\t\t\t\t\t\tcell = CUBOID([Xarray[i], Yarray[j], Zarray[k]])\n",
    "\t\t\t\t\t\telse:\n",
    "\t\t\t\t\t\t\tcell = COLOR([0.325, 0.207, 0.176])(CUBOID([Xarray[i], Yarray[j], Zarray[k]]))\t\n",
    "\t\t\t\t\t\tdoor.append(T([1,2,3])([x,y,z])(cell))\n",
    "\t\t\t\t\tz += Zarray[k]\n",
    "\t\t\t\ty += Yarray[j]\n",
    "\t\t\tx += Xarray[i]\n",
    "\n",
    "\t\tdoor = STRUCT(door)\n",
    "\t\tdoor = S([1,2,3])([dx, dy, dz])(door)\n",
    "\t\treturn door\n",
    "\treturn createDoor2"
   ]
  },
  {
   "cell_type": "markdown",
   "metadata": {},
   "source": [
    "Output:"
   ]
  },
  {
   "cell_type": "markdown",
   "metadata": {},
   "source": [
    "<img src='files/door.png'>"
   ]
  },
  {
   "cell_type": "markdown",
   "metadata": {},
   "source": [
    "funtion that creates a window"
   ]
  },
  {
   "cell_type": "code",
   "execution_count": 3,
   "metadata": {
    "collapsed": true
   },
   "outputs": [],
   "source": [
    "def createWindow(Xarray, Yarray, Zarray, boolArray, Xglass, Zglass):\n",
    "\t\"\"\"\n",
    "\tArgs:\n",
    "\t:param Xarray: a list of distances on x axis\n",
    "\t:param Yarray: a list of distances on y axis\n",
    "\t:param Zarray: a list of distances on z axis\n",
    "\t:param boolArray: a three dimensional matrix of occupancy\n",
    "\t:param Xglass: x coordinate of the glass on the window\n",
    "\t:param Zglass: z coordinate of the glass on the window\n",
    "\n",
    "\tReturns:\n",
    "\ta second order function\n",
    "\t\"\"\"\n",
    "\tdef createWindow2(dimensions):\n",
    "\t\t\"\"\"\n",
    "\t\tArgs:\n",
    "\t\t:param dimensions: dimension of the cube that contais the window\n",
    "\n",
    "\t\tReturns:\n",
    "\t\tan HPC object that represts a window\n",
    "\t\t\"\"\"\n",
    "\t\t(dx, dy, dz) = dimensions\n",
    "\t\twindow = []\n",
    "\n",
    "\t\tx = 0\n",
    "\t\tfor i in range (0, len(boolArray)) :\n",
    "\t\t\ty = 0\n",
    "\t\t\tfor j in range (0, len(boolArray[i])):\n",
    "\t\t\t\tz = 0\n",
    "\t\t\t\tfor k in range(0, len(boolArray[i][j])):\n",
    "\t\t\t\t\tif(boolArray[i][j][k]):\n",
    "\t\t\t\t\t\tcell = []\n",
    "\t\t\t\t\t\tif(Zarray[k] == Zglass and Xarray[i] == Xglass):\n",
    "\t\t\t\t\t\t\tcell = CUBOID([Xarray[i], Yarray[j], Zarray[k]])\n",
    "\t\t\t\t\t\telse:\n",
    "\t\t\t\t\t\t\tcell = COLOR([0.709, 0.709, 0.709])(CUBOID([Xarray[i], Yarray[j], Zarray[k]]))\t\n",
    "\t\t\t\t\t\twindow.append(T([1,2,3])([x,y,z])(cell))\n",
    "\t\t\t\t\tz += Zarray[k]\n",
    "\t\t\t\ty += Yarray[j]\n",
    "\t\t\tx += Xarray[i]\n",
    "\n",
    "\t\twindow = STRUCT(window)\n",
    "\t\twindow = S([1,2,3])([dx, dy, dz])(window)\n",
    "\t\treturn window\n",
    "\treturn createWindow2"
   ]
  },
  {
   "cell_type": "markdown",
   "metadata": {},
   "source": [
    "Output:"
   ]
  },
  {
   "cell_type": "markdown",
   "metadata": {},
   "source": [
    "<img src='files/window.png'>"
   ]
  },
  {
   "cell_type": "markdown",
   "metadata": {},
   "source": [
    "run the code"
   ]
  },
  {
   "cell_type": "code",
   "execution_count": 4,
   "metadata": {
    "collapsed": true
   },
   "outputs": [],
   "source": [
    "if __name__ == \"__main__\":\n",
    "\tdx = 5.0\n",
    "\tdy = 5.0\n",
    "\tdz = 5.0\n",
    "\tdimensions = (dx, dy, dz)\n",
    "\tdoorXarray = [0.20, 0.5, 0.20]\n",
    "\tdoorYarray = [0.02, 0.04, 0.02]\n",
    "\tdoorZarray = [0.20, 0.5, 0.015, 0.5, 0.015, 0.5, 0.015, 0.5, 0.20]\n",
    "\n",
    "\tdoorBoolArray = [\n",
    "\t\t[\n",
    "\t\t\t[True, True, True, True, True, True, True, True, True], #X1, Y1, Zi\n",
    "\t\t\t[True, True, True, True, True, True, True, True, True], #X1, Y2, Zi\n",
    "\t\t\t[True, True, True, True, True, True, True, True, True] #X1, Y3, Zi\n",
    "\t\t],\n",
    "\t\t[\n",
    "\t\t\t[True, False, True, False, True, False, True, False, True], #X2, Y1, Zi\n",
    "\t\t\t[True, True, True, True, True, True, True, True, True], #X2, Y2, Zi\n",
    "\t\t\t[True, False, True, False, True, False, True, False, True] #X2, Y3, Zi\n",
    "\t\t],\n",
    "\t\t[\n",
    "\t\t\t[True, True, True, True, True, True, True, True, True], #X3, Y1, Zi\n",
    "\t\t\t[True, True, True, True, True, True, True, True, True], #X3, Y2, Zi\n",
    "\t\t\t[True, True, True, True, True, True, True, True, True] #X3, Y3, Zi\n",
    "\t\t]\n",
    "\t]\n",
    "\n",
    "\twindowXarray = [0.1, 0.4, 0.1, 0.4, 0.1]\n",
    "\twindowYarray = [0.02, 0.04, 0.02]\n",
    "\twindowZarray = [0.1, 0.95, 0.1]\n",
    "\n",
    "\twindowBoolArray = [\n",
    "\t\t[\n",
    "\t\t\t[True, True, True], #X1, Y1, Zi\n",
    "\t\t\t[True, True, True], #X1, Y2, Zi\n",
    "\t\t\t[True, True, True], #X1, Y3, Zi\n",
    "\t\t],\n",
    "\t\t[\n",
    "\t\t\t[True, False, True], #X2, Y1, Zi\n",
    "\t\t\t[True, True, True], #X2, Y2, Zi\n",
    "\t\t\t[True, False, True], #X2, Y3, Zi\n",
    "\t\t],\n",
    "\t\t[\n",
    "\t\t\t[True, True, True], #X3, Y1, Zi\n",
    "\t\t\t[True, True, True], #X3, Y2, Zi\n",
    "\t\t\t[True, True, True], #X3, Y3, Zi\n",
    "\t\t],\n",
    "\t\t[\n",
    "\t\t\t[True, False, True], #X4, Y1, Zi\n",
    "\t\t\t[True, True, True], #X4, Y2, Zi\n",
    "\t\t\t[True, False, True], #X4, Y3, Zi\n",
    "\t\t],\n",
    "\t\t[\n",
    "\t\t\t[True, True, True], #X5, Y1, Zi\n",
    "\t\t\t[True, True, True], #X5, Y2, Zi\n",
    "\t\t\t[True, True, True], #X5, Y3, Zi\n",
    "\t\t]\n",
    "\t]\n",
    "\n",
    "\n",
    "\tdoor = createDoor(doorXarray, doorYarray, doorZarray, doorBoolArray, doorXarray[1], doorZarray[1])(dimensions)\n",
    "\twindow = createWindow(windowXarray, windowYarray, windowZarray, windowBoolArray, windowXarray[1], windowZarray[1])(dimensions)\n",
    "\tVIEW(door)\n",
    "\tVIEW(window)"
   ]
  },
  {
   "cell_type": "code",
   "execution_count": null,
   "metadata": {
    "collapsed": true
   },
   "outputs": [],
   "source": []
  }
 ],
 "metadata": {
  "anaconda-cloud": {},
  "kernelspec": {
   "display_name": "Python [default]",
   "language": "python",
   "name": "python2"
  },
  "language_info": {
   "codemirror_mode": {
    "name": "ipython",
    "version": 2
   },
   "file_extension": ".py",
   "mimetype": "text/x-python",
   "name": "python",
   "nbconvert_exporter": "python",
   "pygments_lexer": "ipython2",
   "version": "2.7.12"
  }
 },
 "nbformat": 4,
 "nbformat_minor": 1
}
