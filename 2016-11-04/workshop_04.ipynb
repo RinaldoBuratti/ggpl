{
 "cells": [
  {
   "cell_type": "markdown",
   "metadata": {},
   "source": [
    "# WORKSHOP_04"
   ]
  },
  {
   "cell_type": "markdown",
   "metadata": {},
   "source": [
    "function to create a roof (in the image below)"
   ]
  },
  {
   "cell_type": "markdown",
   "metadata": {},
   "source": [
    "<img src='files/roof.png'>"
   ]
  },
  {
   "cell_type": "markdown",
   "metadata": {},
   "source": [
    "imported libraries"
   ]
  },
  {
   "cell_type": "code",
   "execution_count": 7,
   "metadata": {
    "collapsed": false
   },
   "outputs": [
    {
     "name": "stdout",
     "output_type": "stream",
     "text": [
      "Evaluating fenvs.py..\n",
      "...fenvs.py imported in 0.005887 seconds\n"
     ]
    },
    {
     "name": "stderr",
     "output_type": "stream",
     "text": [
      "/Users/rinaldoburatti/anaconda/lib/python2.7/site-packages/larlib/larstruct.py:233: FutureWarning: comparison to `None` will result in an elementwise object comparison in the future.\n",
      "  self.body = [item for item in data if item != None]\n"
     ]
    }
   ],
   "source": [
    "from pyplasm import *\n",
    "from larlib import *"
   ]
  },
  {
   "cell_type": "markdown",
   "metadata": {},
   "source": [
    "function that creates the structure of the roof"
   ]
  },
  {
   "cell_type": "code",
   "execution_count": 3,
   "metadata": {
    "collapsed": true
   },
   "outputs": [],
   "source": [
    "def createStructure(vertex, cells):\n",
    "\t\"\"\"\n",
    "\tcreates roof\n",
    "\tArgs:\n",
    "\t:param vertex: set of vertices \n",
    "\t:param cells: set of cells\n",
    "\n",
    "\tReturns:\n",
    "\t3D value of type HPC representing the bone structure of the roof\n",
    "\t\"\"\"\n",
    "\tstructure = MKPOL([vertex, cells, None])\n",
    "\tstructure = SKELETON(1)(structure)\n",
    "\tstructure = OFFSET([0.2, 0.2, 0.2])(structure)\n",
    "\treturn structure"
   ]
  },
  {
   "cell_type": "markdown",
   "metadata": {},
   "source": [
    "Output:"
   ]
  },
  {
   "cell_type": "markdown",
   "metadata": {},
   "source": [
    "<img src='files/structure.png'>"
   ]
  },
  {
   "cell_type": "markdown",
   "metadata": {},
   "source": [
    "function that creates the faces of the roof"
   ]
  },
  {
   "cell_type": "code",
   "execution_count": 4,
   "metadata": {
    "collapsed": true
   },
   "outputs": [],
   "source": [
    "def createFaces(certex, cells):\n",
    "\t\"\"\"\n",
    "\tcreates faces of the roof\n",
    "\tArgs:\n",
    "\t:param vertex: set of vertices \n",
    "\t:param cells: set of cells\n",
    "\n",
    "\tReturns:\n",
    "\t3D value of type HPC representing the faces of the roof\n",
    "\t\"\"\"\n",
    "\tfaces = MKPOL([vertex, cells, None])\n",
    "\tfaces = OFFSET([0.3, 0.3, 0.3])(faces)\n",
    "\tfaces = COLOR(BROWN)(faces)\n",
    "\treturn faces"
   ]
  },
  {
   "cell_type": "markdown",
   "metadata": {},
   "source": [
    "Output:"
   ]
  },
  {
   "cell_type": "markdown",
   "metadata": {},
   "source": [
    "<img src='files/faces.png'>"
   ]
  },
  {
   "cell_type": "markdown",
   "metadata": {},
   "source": [
    "run the code"
   ]
  },
  {
   "cell_type": "code",
   "execution_count": 8,
   "metadata": {
    "collapsed": false
   },
   "outputs": [],
   "source": [
    "def ggpl_buildRoof(vertex, cells) :\n",
    "\t\"\"\"\n",
    "\tcreates roof\n",
    "\tArgs:\n",
    "\t:param vertex: set of vertices \n",
    "\t:param cells: set of cells\n",
    "\n",
    "\tReturns:\n",
    "\t3D value of type HPC representing the roof\n",
    "\t\"\"\"\n",
    "\tstructure = createStructure(vertex, cells)\n",
    "\tfaces = createFaces(vertex, cells)\n",
    "\troof = STRUCT([faces, T(3)(-0.2), structure])\n",
    "\treturn roof\n",
    "\n",
    "if __name__ == '__main__':\n",
    "\tvertex = [(0.0, 0.0, 0.0), (16.0, 0.0, 0.0), (13.0, 12.5, 6.0), (3.0, 12.5, 6.0), (16.0, 25.0, 0.0), (0.0, 25.0, 0.0)]\n",
    "\tcells = [[1, 2, 3, 4], [1, 4, 6], [2, 3, 5], [3, 4, 5, 6]]\n",
    "\tresult = ggpl_buildRoof(vertex, cells)\n",
    "\tVIEW(result)\t"
   ]
  },
  {
   "cell_type": "markdown",
   "metadata": {},
   "source": [
    "Output: "
   ]
  },
  {
   "cell_type": "markdown",
   "metadata": {},
   "source": [
    "<img src='files/roof2.png'>"
   ]
  },
  {
   "cell_type": "code",
   "execution_count": null,
   "metadata": {
    "collapsed": true
   },
   "outputs": [],
   "source": []
  }
 ],
 "metadata": {
  "anaconda-cloud": {},
  "kernelspec": {
   "display_name": "Python [default]",
   "language": "python",
   "name": "python2"
  },
  "language_info": {
   "codemirror_mode": {
    "name": "ipython",
    "version": 2
   },
   "file_extension": ".py",
   "mimetype": "text/x-python",
   "name": "python",
   "nbconvert_exporter": "python",
   "pygments_lexer": "ipython2",
   "version": "2.7.12"
  }
 },
 "nbformat": 4,
 "nbformat_minor": 1
}
