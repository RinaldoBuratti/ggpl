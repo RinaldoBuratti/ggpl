{
 "cells": [
  {
   "cell_type": "markdown",
   "metadata": {
    "collapsed": true
   },
   "source": [
    "# FLOATING STAIRS"
   ]
  },
  {
   "cell_type": "markdown",
   "metadata": {},
   "source": [
    "the model used is in the image below (with some changes)"
   ]
  },
  {
   "cell_type": "markdown",
   "metadata": {},
   "source": [
    "<img src='files/stair-image.jpg'>"
   ]
  },
  {
   "cell_type": "markdown",
   "metadata": {
    "collapsed": true
   },
   "source": [
    "imported libraries"
   ]
  },
  {
   "cell_type": "code",
   "execution_count": 1,
   "metadata": {
    "collapsed": false
   },
   "outputs": [
    {
     "name": "stdout",
     "output_type": "stream",
     "text": [
      "Evaluating fenvs.py..\n",
      "...fenvs.py imported in 0.004868 seconds\n"
     ]
    },
    {
     "name": "stderr",
     "output_type": "stream",
     "text": [
      "/Users/rinaldoburatti/anaconda/lib/python2.7/site-packages/larlib/larstruct.py:233: FutureWarning: comparison to `None` will result in an elementwise object comparison in the future.\n",
      "  self.body = [item for item in data if item != None]\n"
     ]
    }
   ],
   "source": [
    "from pyplasm import *\n",
    "from larlib import *\n",
    "import math"
   ]
  },
  {
   "cell_type": "markdown",
   "metadata": {},
   "source": [
    "function that creates a single step"
   ]
  },
  {
   "cell_type": "code",
   "execution_count": 2,
   "metadata": {
    "collapsed": true
   },
   "outputs": [],
   "source": [
    "def createStep(stepDimension):\n",
    "\t'''\n",
    "\tcreates a step\n",
    "\n",
    "\tArgs:\n",
    "\t:param stepDimension: dimension of a step\n",
    "\n",
    "\tReturns:\n",
    "\t3D value of type HPC representing a step\n",
    "\t'''\n",
    "\t(sx, sy, sz) = stepDimension\n",
    "\tstep = CUBOID([sx, sy, sz])\n",
    "\tstep = COLOR([0.61, 0.43, 0.31])(step)\n",
    "\tstep = STRUCT([T(3)(sz), step])\n",
    "\treturn step"
   ]
  },
  {
   "cell_type": "markdown",
   "metadata": {},
   "source": [
    "Output:"
   ]
  },
  {
   "cell_type": "markdown",
   "metadata": {},
   "source": [
    "<img src='files/step_image.png'>"
   ]
  },
  {
   "cell_type": "markdown",
   "metadata": {},
   "source": [
    "function that creates a paltform"
   ]
  },
  {
   "cell_type": "code",
   "execution_count": 3,
   "metadata": {
    "collapsed": true
   },
   "outputs": [],
   "source": [
    "def createPlatform(stepDimension):\n",
    "\t'''\n",
    "\tcreates a platform\n",
    "\n",
    "\tArgs:\n",
    "\t:param stepDimension: dimension of a step\n",
    "\n",
    "\tReturns:\n",
    "\t3D value of type HPC representing a platform\n",
    "\t'''\n",
    "\t(sx, sy, sz) = stepDimension\n",
    "\tplatform = CUBOID([sx, sx, sz])\n",
    "\tplatform = COLOR([0.61, 0.43, 0.31])(platform)\n",
    "\tplatform = T(3)(sz)(platform)\n",
    "\tplatform = STRUCT([platform])\n",
    "\treturn platform"
   ]
  },
  {
   "cell_type": "markdown",
   "metadata": {},
   "source": [
    "Output:"
   ]
  },
  {
   "cell_type": "markdown",
   "metadata": {},
   "source": [
    "<img src='files/platform_image.png'>"
   ]
  },
  {
   "cell_type": "markdown",
   "metadata": {},
   "source": [
    "function that build a floating stair"
   ]
  },
  {
   "cell_type": "code",
   "execution_count": 4,
   "metadata": {
    "collapsed": true
   },
   "outputs": [],
   "source": [
    "def createStair(dimension, stepDimension):\n",
    "\t'''\n",
    "\tcreates a floating stair\n",
    "\n",
    "\tArgs:\n",
    "\t:param dimension: dimension of a cube respect of the x, y and z axis\n",
    "\t:param stepDimension: dimension of a step\n",
    "\n",
    "\tReturns:\n",
    "\t3D value of type HPC representing a floating stair\n",
    "\t'''\n",
    "\t(sx, sy, sz) = stepDimension\n",
    "\t(x, y, z) = dimension\n",
    "\n",
    "\tstep = createStep(stepDimension)\n",
    "\tstairX = []\n",
    "\n",
    "\theight = sz\n",
    "\twidth = sy\n",
    "\tdStepZ = sz*2.0\n",
    "\tdStepY = (4.0/5.0)*sy\n",
    "\n",
    "\tfor i in range(0, int(y)):\n",
    "\t\tif(height < z - (sz*2.0)):\n",
    "\t\t\theight = height + dStepZ\n",
    "\t\t\twidth = width + dStepY\n",
    "\t\t\tstairX.extend([step, T(2)(dStepY), T(3)(dStepZ)])\n",
    "\n",
    "\tplatformX = createPlatform(stepDimension)\n",
    "\tstairX.extend([platformX])\n",
    "\twidth = width + sx -sy\n",
    "\n",
    "\tstairY = []\n",
    "\tif(height < z):\n",
    "\t\tfor i in range(0, int(x-(sx*2.0))):\n",
    "\t\t\tif(height < z - (sz*4.0)):\n",
    "\t\t\t\theight = height + dStepZ\n",
    "\t\t\t\tstairY.extend([step, T(2)(dStepY), T(3)(dStepZ)])\n",
    "\n",
    "\tplatformY = createPlatform(stepDimension)\n",
    "\tstairY.extend([platformY])\n",
    "\n",
    "\tstairY = STRUCT(stairY)\n",
    "\tstairY = R([1, 2])(-PI/2.0)(stairY)\n",
    "\tstairY = T(1)(sx)(stairY)\n",
    "\tstairY = T(2)(sx)(stairY)\n",
    "\tstairY = T(3)(sz*2.0)(stairY)\n",
    "\t\n",
    "\tstairX.extend([stairY])\n",
    "\n",
    "\tfloatingStair = STRUCT(stairX)\n",
    "\n",
    "\treturn floatingStair\n"
   ]
  },
  {
   "cell_type": "markdown",
   "metadata": {},
   "source": [
    "Output:"
   ]
  },
  {
   "cell_type": "markdown",
   "metadata": {},
   "source": [
    "<img src='files/floatingStair_image.png'>"
   ]
  },
  {
   "cell_type": "markdown",
   "metadata": {},
   "source": [
    "Run the code:"
   ]
  },
  {
   "cell_type": "code",
   "execution_count": 5,
   "metadata": {
    "collapsed": true
   },
   "outputs": [],
   "source": [
    "def ggpl_floatingStair(dimension, stepDimension):\n",
    "\t'''\n",
    "\tcreates a floating stair\n",
    "\n",
    "\tArgs:\n",
    "\t:param dimension: dimension of a cube respect of the x, y and z axis\n",
    "\t:param stepDimension: dimension of a step\n",
    "\n",
    "\tReturns:\n",
    "\t3D value of type HPC representing a floating stair\n",
    "\t'''\n",
    "\tfloatingStair = createStair(dimension, stepDimension)\n",
    "\treturn floatingStair\n",
    "\n",
    "if __name__ == '__main__':\n",
    "\tdimension = (10, 10, 10)\n",
    "\tstepDimension = (3, 0.8, 0.3)\n",
    "\tfloatingStair = ggpl_floatingStair(dimension, stepDimension)\n",
    "\tVIEW(floatingStair)"
   ]
  },
  {
   "cell_type": "markdown",
   "metadata": {},
   "source": [
    "an example with different dimension of the cube"
   ]
  },
  {
   "cell_type": "markdown",
   "metadata": {},
   "source": [
    "<img src='files/stair2_image.png'>"
   ]
  },
  {
   "cell_type": "code",
   "execution_count": null,
   "metadata": {
    "collapsed": true
   },
   "outputs": [],
   "source": []
  }
 ],
 "metadata": {
  "anaconda-cloud": {},
  "kernelspec": {
   "display_name": "Python [default]",
   "language": "python",
   "name": "python2"
  },
  "language_info": {
   "codemirror_mode": {
    "name": "ipython",
    "version": 2
   },
   "file_extension": ".py",
   "mimetype": "text/x-python",
   "name": "python",
   "nbconvert_exporter": "python",
   "pygments_lexer": "ipython2",
   "version": "2.7.12"
  }
 },
 "nbformat": 4,
 "nbformat_minor": 1
}
