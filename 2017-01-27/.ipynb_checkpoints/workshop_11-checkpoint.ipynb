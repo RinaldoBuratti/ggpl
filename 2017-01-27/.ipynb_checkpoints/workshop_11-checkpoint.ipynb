{
 "cells": [
  {
   "cell_type": "markdown",
   "metadata": {},
   "source": [
    "# WORKSHOP_11"
   ]
  },
  {
   "cell_type": "markdown",
   "metadata": {},
   "source": [
    "Suburbian neighborhood "
   ]
  },
  {
   "cell_type": "markdown",
   "metadata": {},
   "source": [
    "model"
   ]
  },
  {
   "cell_type": "markdown",
   "metadata": {},
   "source": [
    "<img src='files/model.png'>"
   ]
  },
  {
   "cell_type": "markdown",
   "metadata": {},
   "source": [
    "have been used previous homework to build houses"
   ]
  },
  {
   "cell_type": "markdown",
   "metadata": {},
   "source": [
    "# output"
   ]
  },
  {
   "cell_type": "markdown",
   "metadata": {},
   "source": [
    "<img src='files/1.png'>"
   ]
  },
  {
   "cell_type": "markdown",
   "metadata": {},
   "source": [
    "<img src='files/2.png'>"
   ]
  },
  {
   "cell_type": "markdown",
   "metadata": {},
   "source": [
    "<img src='files/3.png'>"
   ]
  },
  {
   "cell_type": "markdown",
   "metadata": {},
   "source": [
    "<img src='files/4.png'>"
   ]
  },
  {
   "cell_type": "code",
   "execution_count": 4,
   "metadata": {
    "collapsed": false
   },
   "outputs": [],
   "source": [
    "from pyplasm import *\n",
    "from workshop_10 import *\n",
    "\n",
    "def road():\n",
    "\troad = CUBOID([3500.0, 700.0, 10.0])\n",
    "\troad = TEXTURE(\"road_texture.jpg\")(road)\n",
    "\troad = T(2)(-1500.0)(road)\n",
    "\troad = T(1)(-3200.0)(road)\n",
    "\troad = T(3)(-12.0)(road)\n",
    "\n",
    "\treturn road\n",
    "\n",
    "\n",
    "def curvedRoad(dx, dy):\n",
    "\tverts = [[0, 1000], [125, 500], [437.5, 500], [425, 0]]\n",
    "\tpolyline = POLYLINE(verts)\n",
    "\n",
    "\troadHeight = 5.0\n",
    "\t\n",
    "\troadwidth = 250.0\n",
    "\n",
    "\troad = PROD([BEZIERSTRIPE([verts, roadwidth, 24]), QUOTE([roadHeight])])\n",
    "\troad = TEXTURE(\"road_texture.jpg\")(road)\n",
    "\troad = COLOR(BROWN)(road)\n",
    "\troad = T(3)(20.0)(road)\n",
    "\troad = T(1)(-600.0)(road)\n",
    "\troad = T(2)(-850.0)(road)\n",
    "\t#VIEW(STRUCT([road]))\n",
    "\treturn road\n",
    "\n",
    "def houseArea():\n",
    "\twith open(\"floor.lines\", \"rb\") as file:\n",
    "\t\treader = csv.reader(file, delimiter = \",\")\n",
    "\t\ti = 0\n",
    "\t\tfor row in reader :\n",
    "\t\t\tif(i == 0):\n",
    "\t\t\t\txi = float(row[0])\n",
    "\t\t\t\txf = float(row[2])\n",
    "\t\t\tif(i == 1):\n",
    "\t\t\t\tyi = float(row[1])\n",
    "\t\t\t\tyf = float(row[3])\n",
    "\t\t\ti = i + 1 \n",
    "\t\tdimensionX = xf - xi\n",
    "\t\tdimensionY = yf - yi\n",
    "\t\tarea = TEXTURE(\"grass_texture.jpg\")(CUBOID([dimensionX + 700.0, dimensionY + 1200.0, 20.0]))\n",
    "\t\tarea = T(1)(-950.0)(area)\n",
    "\t\tarea = T(2)(-800.0)(area)\n",
    "\n",
    "\t\troad = curvedRoad(dimensionX, dimensionY)\n",
    "\t\tarea = STRUCT([area, road])\n",
    "\t\t#VIEW(area)\n",
    "\n",
    "\treturn area\n",
    "\n",
    "def multistoreyHouse():\n",
    "\tmultistoreyHouse = ggpl_multistorey_house()\n",
    "\n",
    "\treturn multistoreyHouse\n",
    "\n",
    "def ggpl_suburbian_neighborhood():\n",
    "\tmulti = multistoreyHouse()\n",
    "\tarea = houseArea()\n",
    "\tmulti = R([2, 1])(-PI/2.0)(multi)\n",
    "\thouse = STRUCT([multi, T(3)(-30.0), area])\n",
    "\troadElem = road()\n",
    "\tside1 = STRUCT([house, T(1) (1100.0) , house, T(1)(1100.0), house, roadElem])\n",
    "\thouse = R([2,1])(PI)(house)\n",
    "\tside2 = STRUCT([house, T(1) (1100.0) , house, T(1)(1100.0), house])\n",
    "\tside2 = T(1)(-750.0)(side2)\n",
    "\tsuburbian_neighborhood = STRUCT([side1, T(2)(-2300.0), side2])\n",
    "\t#VIEW(suburbian_neighborhood)\n",
    "\treturn suburbian_neighborhood\n",
    "\n",
    "if __name__ == '__main__':\n",
    "\tsuburbian_neighborhood = ggpl_suburbian_neighborhood()\n",
    "\tVIEW(suburbian_neighborhood)"
   ]
  },
  {
   "cell_type": "code",
   "execution_count": null,
   "metadata": {
    "collapsed": true
   },
   "outputs": [],
   "source": []
  }
 ],
 "metadata": {
  "anaconda-cloud": {},
  "kernelspec": {
   "display_name": "Python [default]",
   "language": "python",
   "name": "python2"
  },
  "language_info": {
   "codemirror_mode": {
    "name": "ipython",
    "version": 2
   },
   "file_extension": ".py",
   "mimetype": "text/x-python",
   "name": "python",
   "nbconvert_exporter": "python",
   "pygments_lexer": "ipython2",
   "version": "2.7.12"
  }
 },
 "nbformat": 4,
 "nbformat_minor": 1
}
